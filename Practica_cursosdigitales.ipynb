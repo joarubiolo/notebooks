{
  "nbformat": 4,
  "nbformat_minor": 0,
  "metadata": {
    "colab": {
      "provenance": [],
      "toc_visible": true,
      "authorship_tag": "ABX9TyOAfK/28D0uNLEjLgKdyelu",
      "include_colab_link": true
    },
    "kernelspec": {
      "name": "python3",
      "display_name": "Python 3"
    },
    "language_info": {
      "name": "python"
    }
  },
  "cells": [
    {
      "cell_type": "markdown",
      "metadata": {
        "id": "view-in-github",
        "colab_type": "text"
      },
      "source": [
        "<a href=\"https://colab.research.google.com/github/joarubiolo/notebooks/blob/main/Practica_cursosdigitales.ipynb\" target=\"_parent\"><img src=\"https://colab.research.google.com/assets/colab-badge.svg\" alt=\"Open In Colab\"/></a>"
      ]
    },
    {
      "cell_type": "code",
      "execution_count": 12,
      "metadata": {
        "id": "trVWmMVr0XOk"
      },
      "outputs": [],
      "source": [
        "class Book():\n",
        "  \"\"\"\n",
        "  Biblioteca electronica\n",
        "  \"\"\"\n",
        "  \n",
        "  def __init__(self, title,author = \"\",electronic = False):\n",
        "    self.title = title\n",
        "    self.author = author\n",
        "    self.is_electronic = electronic\n",
        "\n",
        "  def __del__(self):\n",
        "    print(\"el objeto declarado ha sido eliminado\")  "
      ]
    },
    {
      "cell_type": "code",
      "source": [
        "  book2 = Book(\"Cuando comen los leones\",\"Wilbur Smith\",False)"
      ],
      "metadata": {
        "id": "Xh7iO8wj1nIn"
      },
      "execution_count": 13,
      "outputs": []
    },
    {
      "cell_type": "code",
      "source": [
        "book2.__dict__"
      ],
      "metadata": {
        "colab": {
          "base_uri": "https://localhost:8080/"
        },
        "id": "yL5bFKMw1rf1",
        "outputId": "c4b152ba-5d1d-4e2e-ef59-ec0e55c3a3f2"
      },
      "execution_count": 11,
      "outputs": [
        {
          "output_type": "execute_result",
          "data": {
            "text/plain": [
              "{'title': 'Cuando comen los leones',\n",
              " 'author': 'Wilbur Smith',\n",
              " 'is_electronic': False}"
            ]
          },
          "metadata": {},
          "execution_count": 11
        }
      ]
    },
    {
      "cell_type": "code",
      "source": [
        "book2 = Book(\"Harry Potter y la piedra filosofal\")"
      ],
      "metadata": {
        "id": "P-IUhtyR57v5"
      },
      "execution_count": 14,
      "outputs": []
    },
    {
      "cell_type": "code",
      "source": [
        "book2.author = \"JK Rowling\"\n",
        "book2.__dict__"
      ],
      "metadata": {
        "colab": {
          "base_uri": "https://localhost:8080/"
        },
        "id": "Mb8KOv3Y6xcH",
        "outputId": "81aaef7b-6f92-45a9-d31c-3bd75ca5c024"
      },
      "execution_count": 16,
      "outputs": [
        {
          "output_type": "execute_result",
          "data": {
            "text/plain": [
              "{'title': 'Harry Potter y la piedra filosofal',\n",
              " 'author': 'JK Rowling',\n",
              " 'is_electronic': False}"
            ]
          },
          "metadata": {},
          "execution_count": 16
        }
      ]
    },
    {
      "cell_type": "markdown",
      "source": [
        "# Metodos de intancia"
      ],
      "metadata": {
        "id": "tOBC_V9rEUCq"
      }
    },
    {
      "cell_type": "code",
      "source": [
        "class Rectangulo():\n",
        "\n",
        "  def __init__(self,base=1,altura=1,color=\"blue\"):\n",
        "    self.base = base\n",
        "    self.altura = altura\n",
        "    self.color = color\n",
        "\n",
        "  def perimetro(self):\n",
        "    return 2*self.base + 2*self.altura\n",
        "\n",
        "  def area(self):\n",
        "    return self.base*self.altura\n",
        "  \n",
        "  #agregamos otra instancia con condicional\n",
        "  def es_alto(self,min=5):\n",
        "    if self.altura>min:\n",
        "      return True\n",
        "    return False\n",
        "\n",
        "  def __str__(self):\n",
        "    return \"Base: {}\\nAltura: {}\".format(self.base,self.altura)"
      ],
      "metadata": {
        "id": "Kl6YSkE5EojD"
      },
      "execution_count": 38,
      "outputs": []
    },
    {
      "cell_type": "code",
      "source": [
        "rect1 = Rectangulo(2,5,\"rojo\")\n",
        "print(\"el perimetro es {}\".format(rect1.perimetro()))\n",
        "print(\"el area del rectangulo es {}\".format(rect1.area()))"
      ],
      "metadata": {
        "colab": {
          "base_uri": "https://localhost:8080/"
        },
        "id": "VT64coicFdFQ",
        "outputId": "f4fadeaf-6d9c-4af3-bf18-e65ec22a1923"
      },
      "execution_count": 39,
      "outputs": [
        {
          "output_type": "stream",
          "name": "stdout",
          "text": [
            "el perimetro es 14\n",
            "el area del rectangulo es 10\n"
          ]
        }
      ]
    },
    {
      "cell_type": "code",
      "source": [
        "rect1.es_alto(3)"
      ],
      "metadata": {
        "colab": {
          "base_uri": "https://localhost:8080/"
        },
        "id": "3hI0E21XHvxJ",
        "outputId": "badb39b8-180e-4509-d12e-f9b4e8608544"
      },
      "execution_count": 29,
      "outputs": [
        {
          "output_type": "execute_result",
          "data": {
            "text/plain": [
              "True"
            ]
          },
          "metadata": {},
          "execution_count": 29
        }
      ]
    },
    {
      "cell_type": "code",
      "source": [
        "print(rect1)"
      ],
      "metadata": {
        "colab": {
          "base_uri": "https://localhost:8080/"
        },
        "id": "k5xX05MNIgoy",
        "outputId": "d3b8309b-7ff2-4367-8b10-7d03b5e863c6"
      },
      "execution_count": 40,
      "outputs": [
        {
          "output_type": "stream",
          "name": "stdout",
          "text": [
            "Base: 2\n",
            "Altura: 5\n"
          ]
        }
      ]
    },
    {
      "cell_type": "markdown",
      "source": [
        "# Metodo estatico"
      ],
      "metadata": {
        "id": "Ow6WSBhHWJ1q"
      }
    },
    {
      "cell_type": "code",
      "source": [
        "class Rectangulo():\n",
        "\n",
        "  def __init__(self,base=1,altura=1,color=\"blue\"):\n",
        "    self.base = base\n",
        "    self.altura = altura\n",
        "    self.color = color\n",
        "\n",
        "  def perimetro(self):\n",
        "    return 2*self.base + 2*self.altura\n",
        "\n",
        "  def area(self):\n",
        "    return self.base*self.altura\n",
        "  \n",
        "  #agregamos otra instancia con condicional\n",
        "  def es_alto(self,min=5):\n",
        "    if self.altura>min:\n",
        "      return True\n",
        "    return False\n",
        "\n",
        "  def __str__(self):\n",
        "    return \"Base: {}\\nAltura: {}\".format(self.base,self.altura)\n",
        "\n",
        "  @staticmethod\n",
        "  def rectangulos_iguales(rect1,rect2):\n",
        "    if rect1.base == rect2.base and rect1.altura == rect2.altura:\n",
        "      return True\n",
        "    return False\n",
        "  "
      ],
      "metadata": {
        "id": "_La_TqkGWQAb"
      },
      "execution_count": 41,
      "outputs": []
    },
    {
      "cell_type": "code",
      "source": [
        "rect1 = Rectangulo(10,15,\"amarillo\")\n",
        "rect2 = Rectangulo(10,15,\"verde\")\n",
        "print(rect1, \"\\n\")\n",
        "print(rect2, \"\\n\")\n",
        "print(Rectangulo.rectangulos_iguales(rect1,rect2))"
      ],
      "metadata": {
        "colab": {
          "base_uri": "https://localhost:8080/"
        },
        "id": "KL8ZoJqpX_Oo",
        "outputId": "ddeab8ae-6d9f-4e86-8bdc-1a4f627decf7"
      },
      "execution_count": 42,
      "outputs": [
        {
          "output_type": "stream",
          "name": "stdout",
          "text": [
            "Base: 10\n",
            "Altura: 15 \n",
            "\n",
            "Base: 10\n",
            "Altura: 15 \n",
            "\n",
            "True\n"
          ]
        }
      ]
    },
    {
      "cell_type": "markdown",
      "source": [
        "#Metodo de clase"
      ],
      "metadata": {
        "id": "1viCgfHGZwi_"
      }
    },
    {
      "cell_type": "code",
      "source": [
        "import random"
      ],
      "metadata": {
        "id": "SCNJFPIdbJCO"
      },
      "execution_count": 43,
      "outputs": []
    },
    {
      "cell_type": "code",
      "source": [
        "class Rectangulo():\n",
        "\n",
        "  def __init__(self,base=1,altura=1,color=\"blue\"):\n",
        "    self.base = base\n",
        "    self.altura = altura\n",
        "    self.color = color\n",
        "\n",
        "  def perimetro(self):\n",
        "    return 2*self.base + 2*self.altura\n",
        "\n",
        "  def area(self):\n",
        "    return self.base*self.altura\n",
        "  \n",
        "  #agregamos otra instancia con condicional\n",
        "  def es_alto(self,min=5):\n",
        "    if self.altura>min:\n",
        "      return True\n",
        "    return False\n",
        "\n",
        "  def __str__(self):\n",
        "    return \"Base: {}\\nAltura: {}\".format(self.base,self.altura)\n",
        "\n",
        "  @staticmethod\n",
        "  def rectangulos_iguales(rect1,rect2):\n",
        "    if rect1.base == rect2.base and rect1.altura == rect2.altura:\n",
        "      return True\n",
        "    return False\n",
        "\n",
        "  @classmethod\n",
        "  def random_rect(cls):\n",
        "    base = random.randrange(1,10)\n",
        "    altura = random.randrange(1,10)\n",
        "    return cls(base,altura)"
      ],
      "metadata": {
        "id": "0FBAQd2ZZ1ml"
      },
      "execution_count": 45,
      "outputs": []
    },
    {
      "cell_type": "code",
      "source": [
        "rect3 = Rectangulo().random_rect()\n",
        "print(rect3)"
      ],
      "metadata": {
        "colab": {
          "base_uri": "https://localhost:8080/"
        },
        "id": "TuQE82n9a86T",
        "outputId": "714a355c-33e7-49a5-83ab-4634bc57f9a5"
      },
      "execution_count": 47,
      "outputs": [
        {
          "output_type": "stream",
          "name": "stdout",
          "text": [
            "Base: 8\n",
            "Altura: 4\n"
          ]
        }
      ]
    },
    {
      "cell_type": "markdown",
      "source": [
        "#Propiedades"
      ],
      "metadata": {
        "id": "3cLq4b5RcaLW"
      }
    },
    {
      "cell_type": "code",
      "source": [
        "class Rectangulo():\n",
        "\n",
        "  def __init__(self,base=1,altura=1,color=\"blue\"):\n",
        "    self.base = base\n",
        "    self.altura = altura\n",
        "    self.color = color\n",
        "    if self.base>20 or self.altura>20:\n",
        "      raise ValueError(\"Los valores superan los admitidos\")\n",
        "\n",
        "  #indicamos que es una propiedad que depende directamente de los atributos y no se puede cambiar\n",
        "  @property \n",
        "  def perimetro(self):\n",
        "    return 2*self.base + 2*self.altura\n",
        "  \n",
        "  @property\n",
        "  def area(self):\n",
        "    return self.base*self.altura\n",
        "  \n",
        "  #agregamos otra instancia con condicional\n",
        "  def es_alto(self,min=5):\n",
        "    if self.altura>min:\n",
        "      return True\n",
        "    return False\n",
        "\n",
        "  def __str__(self):\n",
        "    return \"Base: {}\\nAltura: {}\".format(self.base,self.altura)\n",
        "\n",
        "  @staticmethod\n",
        "  def rectangulos_iguales(rect1,rect2):\n",
        "    if rect1.base == rect2.base and rect1.altura == rect2.altura:\n",
        "      return True\n",
        "    return False\n",
        "  \n",
        "  @property\n",
        "  def coef_prop(self):\n",
        "    return self.altura / self.base\n",
        "  \n",
        "  #setter hace posible la edicion introduciendo valores o demas\n",
        "  @coef_prop.setter\n",
        "  def coef_prop(self, valor):\n",
        "    if valor > 5:\n",
        "      raise ValueError(\"el rectangulo es muy alto y finito\")\n",
        "    elif valor < 0.2:\n",
        "      raise ValueError(\"el rectangulo es muy ancho y bajo\")\n",
        "    \n"
      ],
      "metadata": {
        "id": "YHNC3ioxch0F"
      },
      "execution_count": 52,
      "outputs": []
    },
    {
      "cell_type": "code",
      "source": [
        "rect4 = Rectangulo(20,1)\n",
        "rect4.coef_prop = 4"
      ],
      "metadata": {
        "id": "01a1yRWfj41r"
      },
      "execution_count": 54,
      "outputs": []
    }
  ]
}