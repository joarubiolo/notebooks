{
  "nbformat": 4,
  "nbformat_minor": 0,
  "metadata": {
    "colab": {
      "provenance": [],
      "authorship_tag": "ABX9TyPn8+7lzY5zEzZOJAosGMxu",
      "include_colab_link": true
    },
    "kernelspec": {
      "name": "python3",
      "display_name": "Python 3"
    },
    "language_info": {
      "name": "python"
    }
  },
  "cells": [
    {
      "cell_type": "markdown",
      "metadata": {
        "id": "view-in-github",
        "colab_type": "text"
      },
      "source": [
        "<a href=\"https://colab.research.google.com/github/joarubiolo/notebooks/blob/main/cursosdigitales.ipynb\" target=\"_parent\"><img src=\"https://colab.research.google.com/assets/colab-badge.svg\" alt=\"Open In Colab\"/></a>"
      ]
    },
    {
      "cell_type": "code",
      "execution_count": null,
      "metadata": {
        "colab": {
          "base_uri": "https://localhost:8080/"
        },
        "id": "uALWkKoomLfk",
        "outputId": "8086beb2-a0aa-4fb9-8508-8095d3188d26"
      },
      "outputs": [
        {
          "output_type": "execute_result",
          "data": {
            "text/plain": [
              "True"
            ]
          },
          "metadata": {},
          "execution_count": 5
        }
      ],
      "source": [
        "A = True\n",
        "B = False\n",
        "A or B\n",
        "# puede ser or and y not"
      ]
    },
    {
      "cell_type": "code",
      "source": [
        "s= \"tengo much sueñ\"\n",
        "l= \"o\"\n",
        "\n",
        "if l in s and s.count(l)<2:\n",
        "  print(\"este string tiene {} letras 'O'\".format(s.count(l)))\n",
        "else:\n",
        "  print(\"este string no tiene muchas letras 'o'\")"
      ],
      "metadata": {
        "colab": {
          "base_uri": "https://localhost:8080/"
        },
        "id": "zWq5rPd-yF88",
        "outputId": "7fe38079-23ea-4842-fb61-d649c3aa9bfd"
      },
      "execution_count": 7,
      "outputs": [
        {
          "output_type": "stream",
          "name": "stdout",
          "text": [
            "este string tiene 1 letras 'O'\n"
          ]
        }
      ]
    },
    {
      "cell_type": "code",
      "source": [
        "A = float(input(\"Valor de A = \"))\n",
        "B = float(input(\"Valor de B = \"))\n",
        "\n",
        "if A != 0:\n",
        "  sol= -B/A\n",
        "  print(\"la solucion es x =\", sol)\n",
        "else:\n",
        "  print(\"no tiene solucion porque A = 0\")"
      ],
      "metadata": {
        "colab": {
          "base_uri": "https://localhost:8080/"
        },
        "id": "38ok8nbMVIvp",
        "outputId": "7bffb6e0-a33a-4150-9103-be36e9b263cd"
      },
      "execution_count": 9,
      "outputs": [
        {
          "output_type": "stream",
          "name": "stdout",
          "text": [
            "Valor de A = 4\n",
            "Valor de B = 2\n",
            "la solucion es x = -0.5\n"
          ]
        }
      ]
    }
  ]
}